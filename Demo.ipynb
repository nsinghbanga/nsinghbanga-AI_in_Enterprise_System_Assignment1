{
 "cells": [
  {
   "cell_type": "code",
   "execution_count": 1,
   "metadata": {},
   "outputs": [
    {
     "name": "stdout",
     "output_type": "stream",
     "text": [
      "Please enter a number:4\n",
      "No, its not a prime number.\n"
     ]
    }
   ],
   "source": [
    "def main():\n",
    "    intValue = int(input(\"Please enter a number:\"))\n",
    "    FinalAnswer = getPrimeNumberDetails(intValue)\n",
    "    print(FinalAnswer)\n",
    "    \n",
    "def getPrimeNumberDetails(intValue):\n",
    "    if intValue > 1:\n",
    "        for i in range(2,intValue):\n",
    "            if (intValue % i) == 0:\n",
    "                FinalAnswer = \"No, its not a prime number.\"\n",
    "                break\n",
    "        else:\n",
    "            FinalAnswer = \"Yes, its a prime number.\"\n",
    "        return FinalAnswer\n",
    "    \n",
    "main()"
   ]
  },
  {
   "cell_type": "code",
   "execution_count": null,
   "metadata": {},
   "outputs": [],
   "source": []
  }
 ],
 "metadata": {
  "kernelspec": {
   "display_name": "Python 3",
   "language": "python",
   "name": "python3"
  },
  "language_info": {
   "codemirror_mode": {
    "name": "ipython",
    "version": 3
   },
   "file_extension": ".py",
   "mimetype": "text/x-python",
   "name": "python",
   "nbconvert_exporter": "python",
   "pygments_lexer": "ipython3",
   "version": "3.7.6"
  }
 },
 "nbformat": 4,
 "nbformat_minor": 2
}
